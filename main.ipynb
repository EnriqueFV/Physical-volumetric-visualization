{
  "cells": [
    {
      "cell_type": "code",
      "execution_count": 1,
      "metadata": {
        "colab": {
          "base_uri": "https://localhost:8080/"
        },
        "id": "25l98dJfrIAx",
        "outputId": "ccccde1f-07b0-4558-bd07-549798880e38"
      },
      "outputs": [],
      "source": [
        "import pyvista as pv\n",
        "from pyvista import examples\n",
        "import nibabel as nib\n",
        "import numpy as np"
      ]
    },
    {
      "cell_type": "code",
      "execution_count": 2,
      "metadata": {},
      "outputs": [],
      "source": [
        "file_path = r\"copd1_4D.nii.gz\"\n",
        "image_data = nib.load(file_path).get_fdata()\n",
        "# Extraer datos de la fase inspiratoria\n",
        "inspiratory_data = image_data[:, :, :, 0]  # Selecciona la primera fase (índice 0)\n",
        "grid = pv.ImageData()\n",
        "grid.dimensions = np.array(inspiratory_data.shape)\n",
        "grid.origin = (1, 1, 1)\n",
        "grid.spacing = (0.625, 0.625, 2.5)\n",
        "grid.point_data[\"values\"] = inspiratory_data.flatten(order=\"F\")  # Flatten the array"
      ]
    },
    {
      "cell_type": "code",
      "execution_count": 2,
      "metadata": {
        "colab": {
          "base_uri": "https://localhost:8080/",
          "height": 245
        },
        "id": "Q0yHCbHorIAy",
        "outputId": "f32964a9-81a3-4b2b-c998-6482a8873534"
      },
      "outputs": [
        {
          "data": {
            "application/vnd.jupyter.widget-view+json": {
              "model_id": "fd6b0bdce0a2421abf36cf77da8bd5d1",
              "version_major": 2,
              "version_minor": 0
            },
            "text/plain": [
              "Widget(value='<iframe src=\"http://localhost:55514/index.html?ui=P_0x201d9236c90_0&reconnect=auto\" class=\"pyvis…"
            ]
          },
          "metadata": {},
          "output_type": "display_data"
        }
      ],
      "source": [
        "file_path = r\"copd1_4D.nii.gz\"\n",
        "image_data = nib.load(file_path).get_fdata()\n",
        "# Extraer datos de la fase inspiratoria\n",
        "inspiratory_data = image_data[:, :, :, 0]  # Selecciona la primera fase (índice 0)\n",
        "grid = pv.ImageData()\n",
        "grid.dimensions = np.array(inspiratory_data.shape)\n",
        "grid.origin = (1, 1, 1)\n",
        "grid.spacing = (0.625, 0.625, 2.5)\n",
        "grid.point_data[\"values\"] = inspiratory_data.flatten(order=\"F\")  # Flatten the array\n",
        "pl = pv.Plotter(shape=[1,4])\n",
        "_ = pl.add_volume(grid,mapper = 'gpu')\n",
        "pl.add_text(\"volumetric image\")\n",
        "pl.subplot(0, 1)\n",
        "_ = pl.add_mesh(grid)\n",
        "pl.add_text(\"object image\")\n",
        "pl.subplot(0, 2)\n",
        "_ = pl.add_mesh_isovalue(grid)\n",
        "pl.add_text(\"isovalue\")\n",
        "pl.subplot(0, 3)\n",
        "\n",
        "isovalues = grid.contour(np.linspace(0, 2000, 10), method='contour') #'contour', 'marching_cubes' and 'flying_edges'\n",
        "# Create a new lookup table with oranges\n",
        "lut = pv.LookupTable()\n",
        "lut.value_range = (0, 2000)\n",
        "lut.hue_range = (0.0, 1)\n",
        "lut.saturation_range = (0.0, 1)\n",
        "lut.alpha_range = (0.0, 1.0)\n",
        "lut.scalar_range = (1, 2000)\n",
        "\n",
        "scalars_rng = (isovalues.active_scalars.min(), isovalues.active_scalars.max())\n",
        "\n",
        "\n",
        "def make_double_slider(attr, idx):\n",
        "    \"\"\"Create a double slider for a given lookup table attribute.\"\"\"\n",
        "\n",
        "    def set_min(min_value):\n",
        "        max_value = getattr(lut, attr)[1]\n",
        "        if min_value > max_value:\n",
        "            # force the movement of the maximum value\n",
        "            max_value = min_value\n",
        "            pl.slider_widgets[idx * 2 + 1].GetRepresentation().SetValue(max_value)\n",
        "        setattr(lut, attr, (min_value, max_value))\n",
        "\n",
        "        if attr == 'scalar_range':\n",
        "            actor.mapper.scalar_range = getattr(lut, attr)\n",
        "\n",
        "    def set_max(max_value):\n",
        "        min_value = getattr(lut, attr)[0]\n",
        "        if max_value < min_value:\n",
        "            # force the movement of the minimum value\n",
        "            min_value = max_value\n",
        "            pl.slider_widgets[idx * 2].GetRepresentation().SetValue(min_value)\n",
        "        setattr(lut, attr, (min_value, max_value))\n",
        "\n",
        "        if attr == 'scalar_range':\n",
        "            actor.mapper.scalar_range = getattr(lut, attr)\n",
        "\n",
        "    if attr == 'scalar_range':\n",
        "        rng = scalars_rng\n",
        "    else:\n",
        "        rng = (0, 1)\n",
        "\n",
        "    # create two overlapping slider bars by hiding the tube of the second\n",
        "    pl.add_slider_widget(\n",
        "        set_min,\n",
        "        rng,\n",
        "        value=getattr(lut, attr)[0],\n",
        "        interaction_event='always',\n",
        "        title=' '.join(attr.split('_')).capitalize(),\n",
        "        tube_width=0.003,\n",
        "        pointa=(0.6, 0.9 - 0.165 * idx),\n",
        "        pointb=(0.9, 0.9 - 0.165 * idx),\n",
        "    )\n",
        "    pl.add_slider_widget(\n",
        "        set_max,\n",
        "        rng,\n",
        "        value=getattr(lut, attr)[1],\n",
        "        interaction_event='always',\n",
        "        tube_width=0.0,\n",
        "        pointa=(0.6, 0.9 - 0.165 * idx),\n",
        "        pointb=(0.9, 0.9 - 0.165 * idx),\n",
        "    )\n",
        "actor = pl.add_mesh(isovalues, cmap=lut, lighting=False)\n",
        "make_double_slider('alpha_range', 0)\n",
        "make_double_slider('hue_range', 1)\n",
        "make_double_slider('value_range', 2)\n",
        "make_double_slider('saturation_range', 3)\n",
        "make_double_slider('scalar_range', 4)\n",
        "pl.add_text(\"10 isovalues\")\n",
        "\n",
        "pl.link_views()\n",
        "pl.show()"
      ]
    },
    {
      "cell_type": "code",
      "execution_count": 8,
      "metadata": {
        "colab": {
          "referenced_widgets": [
            "9d253c76e66943009699faa80ba82a61"
          ]
        },
        "id": "1cTUjIvJrIAy",
        "outputId": "97579089-d2cd-4d8d-f0ca-e7567006c122"
      },
      "outputs": [
        {
          "data": {
            "application/vnd.jupyter.widget-view+json": {
              "model_id": "e76c129c95cd4e6d8e9c0f6f10b80a3a",
              "version_major": 2,
              "version_minor": 0
            },
            "text/plain": [
              "Widget(value='<iframe src=\"http://localhost:55514/index.html?ui=P_0x201d9aa1790_5&reconnect=auto\" class=\"pyvis…"
            ]
          },
          "metadata": {},
          "output_type": "display_data"
        }
      ],
      "source": [
        "pl = pv.Plotter()\n",
        "_ = pl.add_volume(grid,mapper = 'gpu', opacity='sigmoid_10')\n",
        "pl.show()"
      ]
    },
    {
      "cell_type": "code",
      "execution_count": 16,
      "metadata": {},
      "outputs": [
        {
          "data": {
            "application/vnd.jupyter.widget-view+json": {
              "model_id": "49f1864cb9024905856f22fa6428ae26",
              "version_major": 2,
              "version_minor": 0
            },
            "text/plain": [
              "Widget(value='<iframe src=\"http://localhost:55514/index.html?ui=P_0x201f15ae010_11&reconnect=auto\" class=\"pyvi…"
            ]
          },
          "metadata": {},
          "output_type": "display_data"
        }
      ],
      "source": [
        "p = pv.Plotter()\n",
        "p.add_mesh_threshold(grid)\n",
        "p.show()"
      ]
    },
    {
      "cell_type": "code",
      "execution_count": 4,
      "metadata": {
        "colab": {
          "referenced_widgets": [
            "e1a5c62b23744db1879fd2031b2a72f9"
          ]
        },
        "id": "jk7vAPWZrIAy",
        "outputId": "ee6c0096-ea9d-447f-d02e-541f40d692db"
      },
      "outputs": [
        {
          "name": "stderr",
          "output_type": "stream",
          "text": [
            "Computing Contour: 100%|██████████[00:00<00:00]\n"
          ]
        },
        {
          "data": {
            "application/vnd.jupyter.widget-view+json": {
              "model_id": "be8a544081ff4843ae92c81770482c17",
              "version_major": 2,
              "version_minor": 0
            },
            "text/plain": [
              "Widget(value='<iframe src=\"http://localhost:55905/index.html?ui=P_0x1ce8106ea50_1&reconnect=auto\" class=\"pyvis…"
            ]
          },
          "metadata": {},
          "output_type": "display_data"
        }
      ],
      "source": [
        "grid = grid.contour(isosurfaces= [600], progress_bar= True, method='marching_cubes') #'contour', 'marching_cubes' and 'flying_edges'\n",
        "pl = pv.Plotter()\n",
        "actor = pl.add_mesh(grid)\n",
        "widget = pl.add_affine_transform_widget(actor)\n",
        "pl.show()"
      ]
    },
    {
      "cell_type": "code",
      "execution_count": 6,
      "metadata": {
        "colab": {
          "referenced_widgets": [
            "cb93602252c64a5489c78f8c82860099"
          ]
        },
        "id": "QFZhMqb2rIAz",
        "outputId": "730dbcd7-f89e-4cfc-93b3-ba6962974241"
      },
      "outputs": [
        {
          "data": {
            "application/vnd.jupyter.widget-view+json": {
              "model_id": "56d032681fb942289a295404cc939e8a",
              "version_major": 2,
              "version_minor": 0
            },
            "text/plain": [
              "Widget(value='<iframe src=\"http://localhost:55905/index.html?ui=P_0x1ce8c317990_3&reconnect=auto\" class=\"pyvis…"
            ]
          },
          "metadata": {},
          "output_type": "display_data"
        }
      ],
      "source": [
        "# Download skybox\n",
        "# cubemap = examples.download_sky_box_cube_map()\n",
        "cubemap = examples.download_cubemap_space_4k()\n",
        "\n",
        "pl = pv.Plotter()\n",
        "pl.add_actor(cubemap.to_skybox())\n",
        "pl.set_environment_texture(cubemap)  # For reflecting the environment off the mesh\n",
        "pl.add_mesh(grid, color='ff9999', opacity = 0.5, ambient= 1,diffuse=1,specular= 1, lighting= True, roughness=1.0, metallic=0.0,pbr=True, interpolate_before_map=False, use_transparency=True, render = True)\n",
        "pl.add_text(\"generic illumination scene\")\n",
        "pl.show()"
      ]
    },
    {
      "cell_type": "code",
      "execution_count": 7,
      "metadata": {
        "colab": {
          "referenced_widgets": [
            "d28c5207aae6415d80e9b917db570936"
          ]
        },
        "id": "VuhHC_V9rIAz",
        "outputId": "8d83cba1-3664-4174-e599-93fc20635541"
      },
      "outputs": [
        {
          "data": {
            "application/vnd.jupyter.widget-view+json": {
              "model_id": "51e1f0d1e3ed4fe9b73fef7f40be2692",
              "version_major": 2,
              "version_minor": 0
            },
            "text/plain": [
              "Widget(value='<iframe src=\"http://localhost:55905/index.html?ui=P_0x1ce902b74d0_4&reconnect=auto\" class=\"pyvis…"
            ]
          },
          "metadata": {},
          "output_type": "display_data"
        }
      ],
      "source": [
        "# Función para crear sliders individuales\n",
        "\n",
        "pl = pv.Plotter(lighting=None)\n",
        "pl.set_background('black')\n",
        "pl.add_mesh(grid, color= 'ff9999', opacity = 0, ambient= 1,diffuse=0,specular= 1, lighting= True, roughness=0.5, metallic=0.5,pbr=True, interpolate_before_map=True, use_transparency=True)\n",
        "# set up lighting\n",
        "light = pv.Light((-2, 2, 0), (0, 0, 0), 'white')\n",
        "light.positional = True\n",
        "light.cone_angle = 40\n",
        "light.exponent = 10\n",
        "light.intensity = 3\n",
        "light.show_actor()\n",
        "pl.add_light(light)\n",
        "\n",
        "light = pv.Light((2, 0, 0), (0, 0, 0), (0.7, 0.0862, 0.0549))\n",
        "pl.add_light(light)\n",
        "\n",
        "light = pv.Light((0, 0, 10), (0, 0, 0), 'white')\n",
        "pl.add_light(light)\n",
        "\n",
        "light = pv.Light((0, 0, 10), (0, 0, 0), 'white')\n",
        "pl.add_light(light)\n",
        "\n",
        "pl.enable_shadows()\n",
        "pl.show()"
      ]
    },
    {
      "cell_type": "code",
      "execution_count": 26,
      "metadata": {},
      "outputs": [
        {
          "data": {
            "text/plain": [
              "(1.0, 320.375, 66.30005645751953, 320.375, 1.0, 297.8765563964844)"
            ]
          },
          "execution_count": 26,
          "metadata": {},
          "output_type": "execute_result"
        }
      ],
      "source": [
        "grid.bounds"
      ]
    },
    {
      "cell_type": "code",
      "execution_count": null,
      "metadata": {},
      "outputs": [
        {
          "name": "stderr",
          "output_type": "stream",
          "text": [
            "ERROR:root:1: #version 150\n",
            "ERROR:root:0(168) : error C1503: undefined variable \"vertexVC\"\n",
            "ERROR:root:Could not set shader program\n",
            "ERROR:root:attempt to add attribute without a bound program for attribute vertexMC\n",
            "ERROR:root:Error setting 'vertexMC' in shader VAO.\n",
            "ERROR:root:1: #version 150\n",
            "WARNING:root:ERROR: In vtkShaderProgram.cxx, line 428\n",
            "vtkShaderProgram (000001CFFCA2DCD0): \n",
            "\n",
            "\n",
            "ERROR:root:Could not set shader program\n",
            "ERROR:root:attempt to add attribute without a bound program for attribute vertexMC\n",
            "ERROR:root:Error setting 'vertexMC' in shader VAO.\n",
            "ERROR:root:1: #version 150\n",
            "WARNING:root:ERROR: In vtkShaderProgram.cxx, line 428\n",
            "vtkShaderProgram (000001CFFCA2DCD0): \n",
            "\n",
            "\n",
            "ERROR:root:Could not set shader program\n",
            "ERROR:root:attempt to add attribute without a bound program for attribute vertexMC\n",
            "ERROR:root:Error setting 'vertexMC' in shader VAO.\n",
            "ERROR:root:1: #version 150\n",
            "WARNING:root:ERROR: In vtkShaderProgram.cxx, line 428\n",
            "vtkShaderProgram (000001CFFCA2DCD0): \n",
            "\n",
            "\n",
            "ERROR:root:Could not set shader program\n",
            "ERROR:root:attempt to add attribute without a bound program for attribute vertexMC\n",
            "ERROR:root:Error setting 'vertexMC' in shader VAO.\n",
            "ERROR:root:1: #version 150\n",
            "WARNING:root:ERROR: In vtkShaderProgram.cxx, line 428\n",
            "vtkShaderProgram (000001CFFCA2DCD0): \n",
            "\n",
            "\n",
            "ERROR:root:Could not set shader program\n",
            "ERROR:root:attempt to add attribute without a bound program for attribute vertexMC\n",
            "ERROR:root:Error setting 'vertexMC' in shader VAO.\n",
            "ERROR:root:1: #version 150\n",
            "WARNING:root:ERROR: In vtkShaderProgram.cxx, line 428\n",
            "vtkShaderProgram (000001CFFCA2DCD0): \n",
            "\n",
            "\n",
            "ERROR:root:Could not set shader program\n",
            "ERROR:root:attempt to add attribute without a bound program for attribute vertexMC\n",
            "ERROR:root:Error setting 'vertexMC' in shader VAO.\n"
          ]
        },
        {
          "data": {
            "application/vnd.jupyter.widget-view+json": {
              "model_id": "54a7f43538ea4e4f99487088a8aab78f",
              "version_major": 2,
              "version_minor": 0
            },
            "text/plain": [
              "Widget(value='<iframe src=\"http://localhost:55905/index.html?ui=P_0x1cf8c44be10_16&reconnect=auto\" class=\"pyvi…"
            ]
          },
          "metadata": {},
          "output_type": "display_data"
        },
        {
          "name": "stderr",
          "output_type": "stream",
          "text": [
            "ERROR:root:1: #version 150\n",
            "WARNING:root:ERROR: In vtkShaderProgram.cxx, line 428\n",
            "vtkShaderProgram (000001CFFCA2DCD0): \n",
            "\n",
            "\n",
            "ERROR:root:Could not set shader program\n",
            "ERROR:root:attempt to add attribute without a bound program for attribute vertexMC\n",
            "ERROR:root:Error setting 'vertexMC' in shader VAO.\n",
            "ERROR:root:1: #version 150\n",
            "WARNING:root:ERROR: In vtkShaderProgram.cxx, line 428\n",
            "vtkShaderProgram (000001CFFCA2DCD0): \n",
            "\n",
            "\n",
            "ERROR:root:Could not set shader program\n",
            "ERROR:root:attempt to add attribute without a bound program for attribute vertexMC\n",
            "ERROR:root:Error setting 'vertexMC' in shader VAO.\n",
            "ERROR:root:1: #version 150\n",
            "WARNING:root:ERROR: In vtkShaderProgram.cxx, line 428\n",
            "vtkShaderProgram (000001CFFCA2DCD0): \n",
            "\n",
            "\n",
            "ERROR:root:Could not set shader program\n",
            "ERROR:root:attempt to add attribute without a bound program for attribute vertexMC\n",
            "ERROR:root:Error setting 'vertexMC' in shader VAO.\n",
            "ERROR:root:1: #version 150\n",
            "WARNING:root:ERROR: In vtkShaderProgram.cxx, line 428\n",
            "vtkShaderProgram (000001CFFCA2DCD0): \n",
            "\n",
            "\n",
            "ERROR:root:Could not set shader program\n",
            "ERROR:root:attempt to add attribute without a bound program for attribute vertexMC\n",
            "ERROR:root:Error setting 'vertexMC' in shader VAO.\n",
            "ERROR:root:1: #version 150\n",
            "WARNING:root:ERROR: In vtkShaderProgram.cxx, line 428\n",
            "vtkShaderProgram (000001CFFCA2DCD0): \n",
            "\n",
            "\n",
            "ERROR:root:Could not set shader program\n",
            "ERROR:root:attempt to add attribute without a bound program for attribute vertexMC\n",
            "ERROR:root:Error setting 'vertexMC' in shader VAO.\n",
            "ERROR:root:1: #version 150\n",
            "WARNING:root:ERROR: In vtkShaderProgram.cxx, line 428\n",
            "vtkShaderProgram (000001CFFCA2DCD0): \n",
            "\n",
            "\n",
            "ERROR:root:Could not set shader program\n",
            "ERROR:root:attempt to add attribute without a bound program for attribute vertexMC\n",
            "ERROR:root:Error setting 'vertexMC' in shader VAO.\n",
            "ERROR:root:1: #version 150\n",
            "WARNING:root:ERROR: In vtkShaderProgram.cxx, line 428\n",
            "vtkShaderProgram (000001CFFCA2DCD0): \n",
            "\n",
            "\n",
            "ERROR:root:Could not set shader program\n",
            "ERROR:root:attempt to add attribute without a bound program for attribute vertexMC\n",
            "ERROR:root:Error setting 'vertexMC' in shader VAO.\n",
            "ERROR:root:1: #version 150\n",
            "WARNING:root:ERROR: In vtkShaderProgram.cxx, line 428\n",
            "vtkShaderProgram (000001CFFCA2DCD0): \n",
            "\n",
            "\n",
            "ERROR:root:Could not set shader program\n",
            "ERROR:root:attempt to add attribute without a bound program for attribute vertexMC\n",
            "ERROR:root:Error setting 'vertexMC' in shader VAO.\n",
            "ERROR:root:1: #version 150\n",
            "WARNING:root:ERROR: In vtkShaderProgram.cxx, line 428\n",
            "vtkShaderProgram (000001CFFCA2DCD0): \n",
            "\n",
            "\n",
            "ERROR:root:Could not set shader program\n",
            "ERROR:root:attempt to add attribute without a bound program for attribute vertexMC\n",
            "ERROR:root:Error setting 'vertexMC' in shader VAO.\n",
            "ERROR:root:1: #version 150\n",
            "WARNING:root:ERROR: In vtkShaderProgram.cxx, line 428\n",
            "vtkShaderProgram (000001CFFCA2DCD0): \n",
            "\n",
            "\n",
            "ERROR:root:Could not set shader program\n",
            "ERROR:root:attempt to add attribute without a bound program for attribute vertexMC\n",
            "ERROR:root:Error setting 'vertexMC' in shader VAO.\n",
            "ERROR:root:1: #version 150\n",
            "WARNING:root:ERROR: In vtkShaderProgram.cxx, line 428\n",
            "vtkShaderProgram (000001CFFCA2DCD0): \n",
            "\n",
            "\n",
            "ERROR:root:Could not set shader program\n",
            "ERROR:root:attempt to add attribute without a bound program for attribute vertexMC\n",
            "ERROR:root:Error setting 'vertexMC' in shader VAO.\n",
            "ERROR:root:1: #version 150\n",
            "WARNING:root:ERROR: In vtkShaderProgram.cxx, line 428\n",
            "vtkShaderProgram (000001CFFCA2DCD0): \n",
            "\n",
            "\n",
            "ERROR:root:Could not set shader program\n",
            "ERROR:root:attempt to add attribute without a bound program for attribute vertexMC\n",
            "ERROR:root:Error setting 'vertexMC' in shader VAO.\n",
            "ERROR:root:1: #version 150\n",
            "WARNING:root:ERROR: In vtkShaderProgram.cxx, line 428\n",
            "vtkShaderProgram (000001CFFCA2DCD0): \n",
            "\n",
            "\n",
            "ERROR:root:Could not set shader program\n",
            "ERROR:root:attempt to add attribute without a bound program for attribute vertexMC\n",
            "ERROR:root:Error setting 'vertexMC' in shader VAO.\n",
            "ERROR:root:1: #version 150\n",
            "WARNING:root:ERROR: In vtkShaderProgram.cxx, line 428\n",
            "vtkShaderProgram (000001CFFCA2DCD0): \n",
            "\n",
            "\n",
            "ERROR:root:Could not set shader program\n",
            "ERROR:root:attempt to add attribute without a bound program for attribute vertexMC\n",
            "ERROR:root:Error setting 'vertexMC' in shader VAO.\n",
            "ERROR:root:1: #version 150\n",
            "WARNING:root:ERROR: In vtkShaderProgram.cxx, line 428\n",
            "vtkShaderProgram (000001CFFCA2DCD0): \n",
            "\n",
            "\n",
            "ERROR:root:Could not set shader program\n",
            "ERROR:root:attempt to add attribute without a bound program for attribute vertexMC\n",
            "ERROR:root:Error setting 'vertexMC' in shader VAO.\n",
            "ERROR:root:1: #version 150\n",
            "WARNING:root:ERROR: In vtkShaderProgram.cxx, line 428\n",
            "vtkShaderProgram (000001CFFCA2DCD0): \n",
            "\n",
            "\n",
            "ERROR:root:Could not set shader program\n"
          ]
        }
      ],
      "source": [
        "plotter = pv.Plotter(lighting='none', window_size=(1000, 1000))\n",
        "plotter.add_mesh(grid, color='ff9999')\n",
        "floor = pv.Plane(center=(*grid.center[:2], grid.bounds[-1]), i_size=1000, j_size=1000)\n",
        "plotter.add_mesh(floor, color='green')\n",
        "\n",
        "UFO = pv.Light(position=(160.6875, 193.33752822875977, 149.4382781982422 - 1000), focal_point=(0, 0, 0), color='white')\n",
        "UFO.positional = True\n",
        "UFO.cone_angle = 40\n",
        "UFO.exponent = 10\n",
        "UFO.intensity = 3\n",
        "UFO.show_actor()\n",
        "plotter.add_light(UFO)\n",
        "\n",
        "# enable shadows to better demonstrate lighting\n",
        "plotter.enable_shadows()\n",
        "plotter.show_bounds()\n",
        "# plotter.camera_position = [(28, 30, 22), (0.77, 0, -0.44), (0, 0, 1)]\n",
        "plotter.show()"
      ]
    }
  ],
  "metadata": {
    "colab": {
      "provenance": []
    },
    "kernelspec": {
      "display_name": ".venv",
      "language": "python",
      "name": "python3"
    },
    "language_info": {
      "codemirror_mode": {
        "name": "ipython",
        "version": 3
      },
      "file_extension": ".py",
      "mimetype": "text/x-python",
      "name": "python",
      "nbconvert_exporter": "python",
      "pygments_lexer": "ipython3",
      "version": "3.11.6"
    }
  },
  "nbformat": 4,
  "nbformat_minor": 0
}
