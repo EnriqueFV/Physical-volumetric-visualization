{
 "cells": [
  {
   "cell_type": "code",
   "execution_count": 1,
   "metadata": {},
   "outputs": [],
   "source": [
    "import pyvista as pv\n",
    "from pyvista import examples\n",
    "import nibabel as nib\n",
    "import numpy as np"
   ]
  },
  {
   "cell_type": "code",
   "execution_count": 2,
   "metadata": {},
   "outputs": [
    {
     "data": {
      "application/vnd.jupyter.widget-view+json": {
       "model_id": "74db34b23d6c44d38a97b1ebb2ba688b",
       "version_major": 2,
       "version_minor": 0
      },
      "text/plain": [
       "Widget(value='<iframe src=\"http://localhost:56663/index.html?ui=P_0x1832e5ef350_0&reconnect=auto\" class=\"pyvis…"
      ]
     },
     "metadata": {},
     "output_type": "display_data"
    }
   ],
   "source": [
    "file_path = r\"C:\\Users\\Enrique\\Desktop\\Udg\\MIRA\\Register project\\TRAIN\\copd1\\copd1_4D.nii.gz\"\n",
    "image_data = nib.load(file_path).get_fdata()\n",
    "# Extraer datos de la fase inspiratoria\n",
    "inspiratory_data = image_data[:, :, :, 0]  # Selecciona la primera fase (índice 0)\n",
    "grid = pv.ImageData()\n",
    "grid.dimensions = np.array(inspiratory_data.shape)\n",
    "grid.origin = (1, 1, 1)\n",
    "grid.spacing = (0.625, 0.625, 2.5)\n",
    "grid.point_data[\"values\"] = inspiratory_data.flatten(order=\"F\")  # Flatten the array\n",
    "pl = pv.Plotter(shape=[1,4])\n",
    "_ = pl.add_volume(grid,mapper = 'gpu')\n",
    "pl.add_text(\"volumetric image\")\n",
    "pl.subplot(0, 1)\n",
    "_ = pl.add_mesh(grid)\n",
    "pl.add_text(\"object image\")\n",
    "pl.subplot(0, 2)\n",
    "_ = pl.add_mesh_isovalue(grid)\n",
    "pl.add_text(\"isovalue\")\n",
    "pl.subplot(0, 3)\n",
    "\n",
    "isovalues = grid.contour(np.linspace(0, 2000, 10), method='contour') #'contour', 'marching_cubes' and 'flying_edges'\n",
    "# Create a new lookup table with oranges\n",
    "lut = pv.LookupTable()\n",
    "lut.value_range = (0, 2000)\n",
    "lut.hue_range = (0.0, 1)\n",
    "lut.saturation_range = (0.0, 1)\n",
    "lut.alpha_range = (0.0, 1.0)\n",
    "lut.scalar_range = (1, 2000)\n",
    "\n",
    "scalars_rng = (isovalues.active_scalars.min(), isovalues.active_scalars.max())\n",
    "\n",
    "\n",
    "def make_double_slider(attr, idx):\n",
    "    \"\"\"Create a double slider for a given lookup table attribute.\"\"\"\n",
    "\n",
    "    def set_min(min_value):\n",
    "        max_value = getattr(lut, attr)[1]\n",
    "        if min_value > max_value:\n",
    "            # force the movement of the maximum value\n",
    "            max_value = min_value\n",
    "            pl.slider_widgets[idx * 2 + 1].GetRepresentation().SetValue(max_value)\n",
    "        setattr(lut, attr, (min_value, max_value))\n",
    "\n",
    "        if attr == 'scalar_range':\n",
    "            actor.mapper.scalar_range = getattr(lut, attr)\n",
    "\n",
    "    def set_max(max_value):\n",
    "        min_value = getattr(lut, attr)[0]\n",
    "        if max_value < min_value:\n",
    "            # force the movement of the minimum value\n",
    "            min_value = max_value\n",
    "            pl.slider_widgets[idx * 2].GetRepresentation().SetValue(min_value)\n",
    "        setattr(lut, attr, (min_value, max_value))\n",
    "\n",
    "        if attr == 'scalar_range':\n",
    "            actor.mapper.scalar_range = getattr(lut, attr)\n",
    "\n",
    "    if attr == 'scalar_range':\n",
    "        rng = scalars_rng\n",
    "    else:\n",
    "        rng = (0, 1)\n",
    "\n",
    "    # create two overlapping slider bars by hiding the tube of the second\n",
    "    pl.add_slider_widget(\n",
    "        set_min,\n",
    "        rng,\n",
    "        value=getattr(lut, attr)[0],\n",
    "        interaction_event='always',\n",
    "        title=' '.join(attr.split('_')).capitalize(),\n",
    "        tube_width=0.003,\n",
    "        pointa=(0.6, 0.9 - 0.165 * idx),\n",
    "        pointb=(0.9, 0.9 - 0.165 * idx),\n",
    "    )\n",
    "    pl.add_slider_widget(\n",
    "        set_max,\n",
    "        rng,\n",
    "        value=getattr(lut, attr)[1],\n",
    "        interaction_event='always',\n",
    "        tube_width=0.0,\n",
    "        pointa=(0.6, 0.9 - 0.165 * idx),\n",
    "        pointb=(0.9, 0.9 - 0.165 * idx),\n",
    "    )\n",
    "actor = pl.add_mesh(isovalues, cmap=lut, lighting=False)\n",
    "make_double_slider('alpha_range', 0)\n",
    "make_double_slider('hue_range', 1)\n",
    "make_double_slider('value_range', 2)\n",
    "make_double_slider('saturation_range', 3)\n",
    "make_double_slider('scalar_range', 4)\n",
    "pl.add_text(\"10 isovalues\")\n",
    "\n",
    "pl.link_views()\n",
    "pl.show()"
   ]
  },
  {
   "cell_type": "code",
   "execution_count": 10,
   "metadata": {},
   "outputs": [
    {
     "data": {
      "application/vnd.jupyter.widget-view+json": {
       "model_id": "959984c2f4f64ac0bad9133a428433be",
       "version_major": 2,
       "version_minor": 0
      },
      "text/plain": [
       "Widget(value='<iframe src=\"http://localhost:56663/index.html?ui=P_0x1833c1344d0_8&reconnect=auto\" class=\"pyvis…"
      ]
     },
     "metadata": {},
     "output_type": "display_data"
    }
   ],
   "source": [
    "pl = pv.Plotter()\n",
    "_ = pl.add_volume(grid,mapper = 'gpu', opacity='sigmoid_10')\n",
    "pl.show()"
   ]
  },
  {
   "cell_type": "code",
   "execution_count": 3,
   "metadata": {},
   "outputs": [
    {
     "name": "stderr",
     "output_type": "stream",
     "text": [
      "Computing Contour: 100%|██████████[00:00<00:00]\n"
     ]
    },
    {
     "data": {
      "application/vnd.jupyter.widget-view+json": {
       "model_id": "448d5e614db042d787754fb4be59c962",
       "version_major": 2,
       "version_minor": 0
      },
      "text/plain": [
       "Widget(value='<iframe src=\"http://localhost:55251/index.html?ui=P_0x15f43b78610_1&reconnect=auto\" class=\"pyvis…"
      ]
     },
     "metadata": {},
     "output_type": "display_data"
    }
   ],
   "source": [
    "file_path = r\"C:\\Users\\Enrique\\Desktop\\Udg\\MIRA\\Register project\\TRAIN\\copd1\\copd1_4D.nii.gz\"\n",
    "image_data = nib.load(file_path).get_fdata()\n",
    "# Extraer datos de la fase inspiratoria\n",
    "inspiratory_data = image_data[:, :, :, 0]  # Selecciona la primera fase (índice 0)\n",
    "# inspiratory_data = np.where((inspiratory_data<200)&(inspiratory_data>50), inspiratory_data ,0)# Crear el objeto PyVista con los datos\n",
    "grid = pv.ImageData()\n",
    "grid.dimensions = np.array(inspiratory_data.shape)\n",
    "grid.origin = (1, 1, 1)\n",
    "grid.spacing = (0.625, 0.625, 2.5)\n",
    "grid.point_data[\"values\"] = inspiratory_data.flatten(order=\"F\")  # Flatten the array\n",
    "grid = grid.contour(isosurfaces= [600], progress_bar= True, method='marching_cubes') #'contour', 'marching_cubes' and 'flying_edges'\n",
    "grid.plot()"
   ]
  },
  {
   "cell_type": "code",
   "execution_count": 4,
   "metadata": {},
   "outputs": [
    {
     "data": {
      "application/vnd.jupyter.widget-view+json": {
       "model_id": "5c9d3334201b497b919bf9b75eaed6c4",
       "version_major": 2,
       "version_minor": 0
      },
      "text/plain": [
       "Widget(value='<iframe src=\"http://localhost:55251/index.html?ui=P_0x15f46f7ea90_2&reconnect=auto\" class=\"pyvis…"
      ]
     },
     "metadata": {},
     "output_type": "display_data"
    }
   ],
   "source": [
    "# Download skybox\n",
    "cubemap = examples.download_sky_box_cube_map()\n",
    "\n",
    "pl = pv.Plotter()\n",
    "pl.add_actor(cubemap.to_skybox())\n",
    "pl.set_environment_texture(cubemap)  # For reflecting the environment off the mesh\n",
    "pl.add_mesh(grid, color='linen', opacity = np.array([1,0.5,0]), ambient= 1,diffuse=0,specular= 1, lighting= True, roughness=0.5, metallic=0.5,pbr=True, interpolate_before_map=True, use_transparency=True, render = True)\n",
    "pl.add_text(\"generic illumination scene\")\n",
    "pl.show()"
   ]
  },
  {
   "cell_type": "code",
   "execution_count": 5,
   "metadata": {},
   "outputs": [
    {
     "data": {
      "application/vnd.jupyter.widget-view+json": {
       "model_id": "2c2561e8ee864f21845bb1f2e38ea263",
       "version_major": 2,
       "version_minor": 0
      },
      "text/plain": [
       "Widget(value='<iframe src=\"http://localhost:55394/index.html?ui=P_0x121ab917890_3&reconnect=auto\" class=\"pyvis…"
      ]
     },
     "metadata": {},
     "output_type": "display_data"
    }
   ],
   "source": [
    "# Función para crear sliders individuales\n",
    "\n",
    "pl = pv.Plotter(lighting=None)\n",
    "pl.set_background('black')\n",
    "pl.add_mesh(isovalues, opacity = 0.5, ambient= 1,diffuse=0,specular= 1, lighting= True, roughness=0.5, metallic=0.5,pbr=True, interpolate_before_map=True, use_transparency=True)\n",
    "# set up lighting\n",
    "light = pv.Light((-2, 2, 0), (0, 0, 0), 'white')\n",
    "pl.add_light(light)\n",
    "\n",
    "light = pv.Light((2, 0, 0), (0, 0, 0), (0.7, 0.0862, 0.0549))\n",
    "pl.add_light(light)\n",
    "\n",
    "light = pv.Light((0, 0, 10), (0, 0, 0), 'white')\n",
    "pl.add_light(light)\n",
    "\n",
    "pl.show()"
   ]
  }
 ],
 "metadata": {
  "kernelspec": {
   "display_name": ".venv",
   "language": "python",
   "name": "python3"
  },
  "language_info": {
   "codemirror_mode": {
    "name": "ipython",
    "version": 3
   },
   "file_extension": ".py",
   "mimetype": "text/x-python",
   "name": "python",
   "nbconvert_exporter": "python",
   "pygments_lexer": "ipython3",
   "version": "3.11.6"
  }
 },
 "nbformat": 4,
 "nbformat_minor": 2
}
