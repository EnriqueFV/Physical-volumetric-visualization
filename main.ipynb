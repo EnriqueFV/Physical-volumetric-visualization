{
  "cells": [
    {
      "cell_type": "code",
      "execution_count": 17,
      "metadata": {
        "colab": {
          "base_uri": "https://localhost:8080/"
        },
        "id": "25l98dJfrIAx",
        "outputId": "ccccde1f-07b0-4558-bd07-549798880e38"
      },
      "outputs": [
        {
          "name": "stdout",
          "output_type": "stream",
          "text": [
            "Collecting pyvista\n",
            "  Downloading pyvista-0.43.1-py3-none-any.whl (1.9 MB)\n",
            "\u001b[?25l     \u001b[90m━━━━━━━━━━━━━━━━━━━━━━━━━━━━━━━━━━━━━━━━\u001b[0m \u001b[32m0.0/1.9 MB\u001b[0m \u001b[31m?\u001b[0m eta \u001b[36m-:--:--\u001b[0m\r\u001b[2K     \u001b[91m━\u001b[0m\u001b[90m╺\u001b[0m\u001b[90m━━━━━━━━━━━━━━━━━━━━━━━━━━━━━━━━━━━━━━\u001b[0m \u001b[32m0.1/1.9 MB\u001b[0m \u001b[31m1.6 MB/s\u001b[0m eta \u001b[36m0:00:02\u001b[0m\r\u001b[2K     \u001b[91m━━━━━━━━━━━━━━━━━━━━━━━━━\u001b[0m\u001b[90m╺\u001b[0m\u001b[90m━━━━━━━━━━━━━━\u001b[0m \u001b[32m1.2/1.9 MB\u001b[0m \u001b[31m17.1 MB/s\u001b[0m eta \u001b[36m0:00:01\u001b[0m\r\u001b[2K     \u001b[91m━━━━━━━━━━━━━━━━━━━━━━━━━━━━━━━━━━━━━━━\u001b[0m\u001b[91m╸\u001b[0m \u001b[32m1.9/1.9 MB\u001b[0m \u001b[31m23.2 MB/s\u001b[0m eta \u001b[36m0:00:01\u001b[0m\r\u001b[2K     \u001b[90m━━━━━━━━━━━━━━━━━━━━━━━━━━━━━━━━━━━━━━━━\u001b[0m \u001b[32m1.9/1.9 MB\u001b[0m \u001b[31m16.9 MB/s\u001b[0m eta \u001b[36m0:00:00\u001b[0m\n",
            "\u001b[?25hRequirement already satisfied: nibabel in /usr/local/lib/python3.10/dist-packages (4.0.2)\n",
            "Requirement already satisfied: numpy in /usr/local/lib/python3.10/dist-packages (1.23.5)\n",
            "Requirement already satisfied: matplotlib>=3.0.1 in /usr/local/lib/python3.10/dist-packages (from pyvista) (3.7.1)\n",
            "Requirement already satisfied: pillow in /usr/local/lib/python3.10/dist-packages (from pyvista) (9.4.0)\n",
            "Requirement already satisfied: pooch in /usr/local/lib/python3.10/dist-packages (from pyvista) (1.8.0)\n",
            "Requirement already satisfied: scooby>=0.5.1 in /usr/local/lib/python3.10/dist-packages (from pyvista) (0.9.2)\n",
            "Collecting vtk (from pyvista)\n",
            "  Downloading vtk-9.3.0-cp310-cp310-manylinux_2_17_x86_64.manylinux2014_x86_64.whl (92.0 MB)\n",
            "\u001b[2K     \u001b[90m━━━━━━━━━━━━━━━━━━━━━━━━━━━━━━━━━━━━━━━━\u001b[0m \u001b[32m92.0/92.0 MB\u001b[0m \u001b[31m2.3 MB/s\u001b[0m eta \u001b[36m0:00:00\u001b[0m\n",
            "\u001b[?25hRequirement already satisfied: packaging>=17.0 in /usr/local/lib/python3.10/dist-packages (from nibabel) (23.2)\n",
            "Requirement already satisfied: setuptools in /usr/local/lib/python3.10/dist-packages (from nibabel) (67.7.2)\n",
            "Requirement already satisfied: contourpy>=1.0.1 in /usr/local/lib/python3.10/dist-packages (from matplotlib>=3.0.1->pyvista) (1.2.0)\n",
            "Requirement already satisfied: cycler>=0.10 in /usr/local/lib/python3.10/dist-packages (from matplotlib>=3.0.1->pyvista) (0.12.1)\n",
            "Requirement already satisfied: fonttools>=4.22.0 in /usr/local/lib/python3.10/dist-packages (from matplotlib>=3.0.1->pyvista) (4.46.0)\n",
            "Requirement already satisfied: kiwisolver>=1.0.1 in /usr/local/lib/python3.10/dist-packages (from matplotlib>=3.0.1->pyvista) (1.4.5)\n",
            "Requirement already satisfied: pyparsing>=2.3.1 in /usr/local/lib/python3.10/dist-packages (from matplotlib>=3.0.1->pyvista) (3.1.1)\n",
            "Requirement already satisfied: python-dateutil>=2.7 in /usr/local/lib/python3.10/dist-packages (from matplotlib>=3.0.1->pyvista) (2.8.2)\n",
            "Requirement already satisfied: platformdirs>=2.5.0 in /usr/local/lib/python3.10/dist-packages (from pooch->pyvista) (4.1.0)\n",
            "Requirement already satisfied: requests>=2.19.0 in /usr/local/lib/python3.10/dist-packages (from pooch->pyvista) (2.31.0)\n",
            "Requirement already satisfied: six>=1.5 in /usr/local/lib/python3.10/dist-packages (from python-dateutil>=2.7->matplotlib>=3.0.1->pyvista) (1.16.0)\n",
            "Requirement already satisfied: charset-normalizer<4,>=2 in /usr/local/lib/python3.10/dist-packages (from requests>=2.19.0->pooch->pyvista) (3.3.2)\n",
            "Requirement already satisfied: idna<4,>=2.5 in /usr/local/lib/python3.10/dist-packages (from requests>=2.19.0->pooch->pyvista) (3.6)\n",
            "Requirement already satisfied: urllib3<3,>=1.21.1 in /usr/local/lib/python3.10/dist-packages (from requests>=2.19.0->pooch->pyvista) (2.0.7)\n",
            "Requirement already satisfied: certifi>=2017.4.17 in /usr/local/lib/python3.10/dist-packages (from requests>=2.19.0->pooch->pyvista) (2023.11.17)\n",
            "Installing collected packages: vtk, pyvista\n",
            "Successfully installed pyvista-0.43.1 vtk-9.3.0\n"
          ]
        }
      ],
      "source": [
        "import pyvista as pv\n",
        "from pyvista import examples\n",
        "import nibabel as nib\n",
        "import numpy as np"
      ]
    },
    {
      "cell_type": "code",
      "execution_count": 3,
      "metadata": {
        "colab": {
          "base_uri": "https://localhost:8080/",
          "height": 245
        },
        "id": "Q0yHCbHorIAy",
        "outputId": "f32964a9-81a3-4b2b-c998-6482a8873534"
      },
      "outputs": [
        {
          "ename": "NameError",
          "evalue": "ignored",
          "output_type": "error",
          "traceback": [
            "\u001b[0;31m---------------------------------------------------------------------------\u001b[0m",
            "\u001b[0;31mNameError\u001b[0m                                 Traceback (most recent call last)",
            "\u001b[0;32m<ipython-input-3-a7a22b18858c>\u001b[0m in \u001b[0;36m<cell line: 2>\u001b[0;34m()\u001b[0m\n\u001b[1;32m      1\u001b[0m \u001b[0mfile_path\u001b[0m \u001b[0;34m=\u001b[0m \u001b[0;34mr\"2copd1_4D.nii.gz\"\u001b[0m\u001b[0;34m\u001b[0m\u001b[0;34m\u001b[0m\u001b[0m\n\u001b[0;32m----> 2\u001b[0;31m \u001b[0mimage_data\u001b[0m \u001b[0;34m=\u001b[0m \u001b[0mnib\u001b[0m\u001b[0;34m.\u001b[0m\u001b[0mload\u001b[0m\u001b[0;34m(\u001b[0m\u001b[0mfile_path\u001b[0m\u001b[0;34m)\u001b[0m\u001b[0;34m.\u001b[0m\u001b[0mget_fdata\u001b[0m\u001b[0;34m(\u001b[0m\u001b[0;34m)\u001b[0m\u001b[0;34m\u001b[0m\u001b[0;34m\u001b[0m\u001b[0m\n\u001b[0m\u001b[1;32m      3\u001b[0m \u001b[0;31m# Extraer datos de la fase inspiratoria\u001b[0m\u001b[0;34m\u001b[0m\u001b[0;34m\u001b[0m\u001b[0m\n\u001b[1;32m      4\u001b[0m \u001b[0minspiratory_data\u001b[0m \u001b[0;34m=\u001b[0m \u001b[0mimage_data\u001b[0m\u001b[0;34m[\u001b[0m\u001b[0;34m:\u001b[0m\u001b[0;34m,\u001b[0m \u001b[0;34m:\u001b[0m\u001b[0;34m,\u001b[0m \u001b[0;34m:\u001b[0m\u001b[0;34m,\u001b[0m \u001b[0;36m0\u001b[0m\u001b[0;34m]\u001b[0m  \u001b[0;31m# Selecciona la primera fase (índice 0)\u001b[0m\u001b[0;34m\u001b[0m\u001b[0;34m\u001b[0m\u001b[0m\n\u001b[1;32m      5\u001b[0m \u001b[0mgrid\u001b[0m \u001b[0;34m=\u001b[0m \u001b[0mpv\u001b[0m\u001b[0;34m.\u001b[0m\u001b[0mImageData\u001b[0m\u001b[0;34m(\u001b[0m\u001b[0;34m)\u001b[0m\u001b[0;34m\u001b[0m\u001b[0;34m\u001b[0m\u001b[0m\n",
            "\u001b[0;31mNameError\u001b[0m: name 'nib' is not defined"
          ]
        }
      ],
      "source": [
        "file_path = r\"2copd1_4D.nii.gz\"\n",
        "image_data = nib.load(file_path).get_fdata()\n",
        "# Extraer datos de la fase inspiratoria\n",
        "inspiratory_data = image_data[:, :, :, 0]  # Selecciona la primera fase (índice 0)\n",
        "grid = pv.ImageData()\n",
        "grid.dimensions = np.array(inspiratory_data.shape)\n",
        "grid.origin = (1, 1, 1)\n",
        "grid.spacing = (0.625, 0.625, 2.5)\n",
        "grid.point_data[\"values\"] = inspiratory_data.flatten(order=\"F\")  # Flatten the array\n",
        "pl = pv.Plotter(shape=[1,4])\n",
        "_ = pl.add_volume(grid,mapper = 'gpu')\n",
        "pl.add_text(\"volumetric image\")\n",
        "pl.subplot(0, 1)\n",
        "_ = pl.add_mesh(grid)\n",
        "pl.add_text(\"object image\")\n",
        "pl.subplot(0, 2)\n",
        "_ = pl.add_mesh_isovalue(grid)\n",
        "pl.add_text(\"isovalue\")\n",
        "pl.subplot(0, 3)\n",
        "\n",
        "isovalues = grid.contour(np.linspace(0, 2000, 10), method='contour') #'contour', 'marching_cubes' and 'flying_edges'\n",
        "# Create a new lookup table with oranges\n",
        "lut = pv.LookupTable()\n",
        "lut.value_range = (0, 2000)\n",
        "lut.hue_range = (0.0, 1)\n",
        "lut.saturation_range = (0.0, 1)\n",
        "lut.alpha_range = (0.0, 1.0)\n",
        "lut.scalar_range = (1, 2000)\n",
        "\n",
        "scalars_rng = (isovalues.active_scalars.min(), isovalues.active_scalars.max())\n",
        "\n",
        "\n",
        "def make_double_slider(attr, idx):\n",
        "    \"\"\"Create a double slider for a given lookup table attribute.\"\"\"\n",
        "\n",
        "    def set_min(min_value):\n",
        "        max_value = getattr(lut, attr)[1]\n",
        "        if min_value > max_value:\n",
        "            # force the movement of the maximum value\n",
        "            max_value = min_value\n",
        "            pl.slider_widgets[idx * 2 + 1].GetRepresentation().SetValue(max_value)\n",
        "        setattr(lut, attr, (min_value, max_value))\n",
        "\n",
        "        if attr == 'scalar_range':\n",
        "            actor.mapper.scalar_range = getattr(lut, attr)\n",
        "\n",
        "    def set_max(max_value):\n",
        "        min_value = getattr(lut, attr)[0]\n",
        "        if max_value < min_value:\n",
        "            # force the movement of the minimum value\n",
        "            min_value = max_value\n",
        "            pl.slider_widgets[idx * 2].GetRepresentation().SetValue(min_value)\n",
        "        setattr(lut, attr, (min_value, max_value))\n",
        "\n",
        "        if attr == 'scalar_range':\n",
        "            actor.mapper.scalar_range = getattr(lut, attr)\n",
        "\n",
        "    if attr == 'scalar_range':\n",
        "        rng = scalars_rng\n",
        "    else:\n",
        "        rng = (0, 1)\n",
        "\n",
        "    # create two overlapping slider bars by hiding the tube of the second\n",
        "    pl.add_slider_widget(\n",
        "        set_min,\n",
        "        rng,\n",
        "        value=getattr(lut, attr)[0],\n",
        "        interaction_event='always',\n",
        "        title=' '.join(attr.split('_')).capitalize(),\n",
        "        tube_width=0.003,\n",
        "        pointa=(0.6, 0.9 - 0.165 * idx),\n",
        "        pointb=(0.9, 0.9 - 0.165 * idx),\n",
        "    )\n",
        "    pl.add_slider_widget(\n",
        "        set_max,\n",
        "        rng,\n",
        "        value=getattr(lut, attr)[1],\n",
        "        interaction_event='always',\n",
        "        tube_width=0.0,\n",
        "        pointa=(0.6, 0.9 - 0.165 * idx),\n",
        "        pointb=(0.9, 0.9 - 0.165 * idx),\n",
        "    )\n",
        "actor = pl.add_mesh(isovalues, cmap=lut, lighting=False)\n",
        "make_double_slider('alpha_range', 0)\n",
        "make_double_slider('hue_range', 1)\n",
        "make_double_slider('value_range', 2)\n",
        "make_double_slider('saturation_range', 3)\n",
        "make_double_slider('scalar_range', 4)\n",
        "pl.add_text(\"10 isovalues\")\n",
        "\n",
        "pl.link_views()\n",
        "pl.show()"
      ]
    },
    {
      "cell_type": "code",
      "execution_count": null,
      "metadata": {
        "colab": {
          "referenced_widgets": [
            "9d253c76e66943009699faa80ba82a61"
          ]
        },
        "id": "1cTUjIvJrIAy",
        "outputId": "97579089-d2cd-4d8d-f0ca-e7567006c122"
      },
      "outputs": [
        {
          "data": {
            "application/vnd.jupyter.widget-view+json": {
              "model_id": "9d253c76e66943009699faa80ba82a61",
              "version_major": 2,
              "version_minor": 0
            },
            "text/plain": [
              "Widget(value='<iframe src=\"http://localhost:61062/index.html?ui=P_0x205010015d0_1&reconnect=auto\" class=\"pyvis…"
            ]
          },
          "metadata": {},
          "output_type": "display_data"
        }
      ],
      "source": [
        "pl = pv.Plotter()\n",
        "_ = pl.add_volume(grid,mapper = 'gpu', opacity='sigmoid_10')\n",
        "pl.show()"
      ]
    },
    {
      "cell_type": "code",
      "execution_count": null,
      "metadata": {
        "colab": {
          "referenced_widgets": [
            "e1a5c62b23744db1879fd2031b2a72f9"
          ]
        },
        "id": "jk7vAPWZrIAy",
        "outputId": "ee6c0096-ea9d-447f-d02e-541f40d692db"
      },
      "outputs": [
        {
          "name": "stderr",
          "output_type": "stream",
          "text": [
            "Computing Contour: 100%|██████████[00:00<00:00]\n"
          ]
        },
        {
          "data": {
            "application/vnd.jupyter.widget-view+json": {
              "model_id": "e1a5c62b23744db1879fd2031b2a72f9",
              "version_major": 2,
              "version_minor": 0
            },
            "text/plain": [
              "Widget(value='<iframe src=\"http://localhost:61062/index.html?ui=P_0x2057c95aa50_2&reconnect=auto\" class=\"pyvis…"
            ]
          },
          "metadata": {},
          "output_type": "display_data"
        }
      ],
      "source": [
        "grid = grid.contour(isosurfaces= [600], progress_bar= True, method='marching_cubes') #'contour', 'marching_cubes' and 'flying_edges'\n",
        "grid.plot()"
      ]
    },
    {
      "cell_type": "code",
      "execution_count": null,
      "metadata": {
        "colab": {
          "referenced_widgets": [
            "cb93602252c64a5489c78f8c82860099"
          ]
        },
        "id": "QFZhMqb2rIAz",
        "outputId": "730dbcd7-f89e-4cfc-93b3-ba6962974241"
      },
      "outputs": [
        {
          "data": {
            "application/vnd.jupyter.widget-view+json": {
              "model_id": "cb93602252c64a5489c78f8c82860099",
              "version_major": 2,
              "version_minor": 0
            },
            "text/plain": [
              "Widget(value='<iframe src=\"http://localhost:61062/index.html?ui=P_0x205c2227ed0_14&reconnect=auto\" class=\"pyvi…"
            ]
          },
          "metadata": {},
          "output_type": "display_data"
        }
      ],
      "source": [
        "# Download skybox\n",
        "# cubemap = examples.download_sky_box_cube_map()\n",
        "cubemap = examples.download_cubemap_space_4k()\n",
        "\n",
        "pl = pv.Plotter()\n",
        "pl.add_actor(cubemap.to_skybox())\n",
        "pl.set_environment_texture(cubemap)  # For reflecting the environment off the mesh\n",
        "pl.add_mesh(grid, color='ff9999', opacity = 0.5, ambient= 1,diffuse=1,specular= 1, lighting= True, roughness=1.0, metallic=0.0,pbr=True, interpolate_before_map=False, use_transparency=True, render = True)\n",
        "pl.add_text(\"generic illumination scene\")\n",
        "pl.show()"
      ]
    },
    {
      "cell_type": "code",
      "execution_count": null,
      "metadata": {
        "colab": {
          "referenced_widgets": [
            "d28c5207aae6415d80e9b917db570936"
          ]
        },
        "id": "VuhHC_V9rIAz",
        "outputId": "8d83cba1-3664-4174-e599-93fc20635541"
      },
      "outputs": [
        {
          "data": {
            "application/vnd.jupyter.widget-view+json": {
              "model_id": "d28c5207aae6415d80e9b917db570936",
              "version_major": 2,
              "version_minor": 0
            },
            "text/plain": [
              "Widget(value='<iframe src=\"http://localhost:61062/index.html?ui=P_0x205d53844d0_15&reconnect=auto\" class=\"pyvi…"
            ]
          },
          "metadata": {},
          "output_type": "display_data"
        }
      ],
      "source": [
        "# Función para crear sliders individuales\n",
        "\n",
        "pl = pv.Plotter(lighting=None)\n",
        "pl.set_background('black')\n",
        "pl.add_mesh(grid, color= 'ff9999', opacity = 0.5, ambient= 1,diffuse=0,specular= 1, lighting= True, roughness=0.5, metallic=0.5,pbr=True, interpolate_before_map=True, use_transparency=True)\n",
        "# set up lighting\n",
        "light = pv.Light((-2, 2, 0), (0, 0, 0), 'white')\n",
        "pl.add_light(light)\n",
        "\n",
        "light = pv.Light((2, 0, 0), (0, 0, 0), (0.7, 0.0862, 0.0549))\n",
        "pl.add_light(light)\n",
        "\n",
        "light = pv.Light((0, 0, 10), (0, 0, 0), 'white')\n",
        "pl.add_light(light)\n",
        "\n",
        "pl.show()"
      ]
    }
  ],
  "metadata": {
    "colab": {
      "provenance": []
    },
    "kernelspec": {
      "display_name": ".venv",
      "language": "python",
      "name": "python3"
    },
    "language_info": {
      "codemirror_mode": {
        "name": "ipython",
        "version": 3
      },
      "file_extension": ".py",
      "mimetype": "text/x-python",
      "name": "python",
      "nbconvert_exporter": "python",
      "pygments_lexer": "ipython3",
      "version": "3.11.6"
    }
  },
  "nbformat": 4,
  "nbformat_minor": 0
}
