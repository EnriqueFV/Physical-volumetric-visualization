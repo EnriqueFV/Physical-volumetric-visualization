{
  "cells": [
    {
      "cell_type": "code",
      "source": [
        "!wget https://github.com/EnriqueFV/Physical-volumetric-visualization/blob/main/copd1_4D.nii.gz\n",
        "!wget https://github.com/EnriqueFV/Physical-volumetric-visualization/blob/main/requerimets.txt"
      ],
      "metadata": {
        "colab": {
          "base_uri": "https://localhost:8080/"
        },
        "id": "p2A1iS5I83D5",
        "outputId": "2f96e6f0-2582-451e-e928-1e960b48a761"
      },
      "execution_count": 4,
      "outputs": [
        {
          "output_type": "stream",
          "name": "stdout",
          "text": [
            "--2023-12-16 23:27:13--  https://github.com/EnriqueFV/Physical-volumetric-visualization/blob/main/copd1_4D.nii.gz\n",
            "Resolving github.com (github.com)... 140.82.114.3\n",
            "Connecting to github.com (github.com)|140.82.114.3|:443... connected.\n",
            "HTTP request sent, awaiting response... 200 OK\n",
            "Length: 4627 (4.5K) [text/plain]\n",
            "Saving to: ‘copd1_4D.nii.gz.1’\n",
            "\n",
            "\rcopd1_4D.nii.gz.1     0%[                    ]       0  --.-KB/s               \rcopd1_4D.nii.gz.1   100%[===================>]   4.52K  --.-KB/s    in 0s      \n",
            "\n",
            "2023-12-16 23:27:13 (48.8 MB/s) - ‘copd1_4D.nii.gz.1’ saved [4627/4627]\n",
            "\n",
            "--2023-12-16 23:27:14--  https://github.com/EnriqueFV/Physical-volumetric-visualization/blob/main/requeriments.txt\n",
            "Resolving github.com (github.com)... 140.82.114.3\n",
            "Connecting to github.com (github.com)|140.82.114.3|:443... connected.\n",
            "HTTP request sent, awaiting response... 404 Not Found\n",
            "2023-12-16 23:27:14 ERROR 404: Not Found.\n",
            "\n"
          ]
        }
      ]
    },
    {
      "cell_type": "code",
      "source": [
        "!ls ./"
      ],
      "metadata": {
        "colab": {
          "base_uri": "https://localhost:8080/"
        },
        "id": "DF7KWAMS8-I1",
        "outputId": "96d73db8-a693-4b22-f944-e977dc20694f"
      },
      "execution_count": 3,
      "outputs": [
        {
          "output_type": "stream",
          "name": "stdout",
          "text": [
            "copd1_4D.nii.gz  sample_data\n"
          ]
        }
      ]
    },
    {
      "cell_type": "code",
      "execution_count": null,
      "metadata": {
        "id": "25l98dJfrIAx"
      },
      "outputs": [],
      "source": [
        "import pyvista as pv\n",
        "from pyvista import examples\n",
        "import nibabel as nib\n",
        "import numpy as np"
      ]
    },
    {
      "cell_type": "code",
      "execution_count": null,
      "metadata": {
        "colab": {
          "referenced_widgets": [
            "458c193ee3514cdfbd0c494c1aeec8db"
          ]
        },
        "id": "Q0yHCbHorIAy",
        "outputId": "d7bea692-90cc-42f6-f037-aa085f43cbbd"
      },
      "outputs": [
        {
          "data": {
            "application/vnd.jupyter.widget-view+json": {
              "model_id": "458c193ee3514cdfbd0c494c1aeec8db",
              "version_major": 2,
              "version_minor": 0
            },
            "text/plain": [
              "Widget(value='<iframe src=\"http://localhost:61062/index.html?ui=P_0x2054a994b10_0&reconnect=auto\" class=\"pyvis…"
            ]
          },
          "metadata": {},
          "output_type": "display_data"
        }
      ],
      "source": [
        "file_path = r\"./copd1_4D.nii.gz\"\n",
        "image_data = nib.load(file_path).get_fdata()\n",
        "# Extraer datos de la fase inspiratoria\n",
        "inspiratory_data = image_data[:, :, :, 0]  # Selecciona la primera fase (índice 0)\n",
        "grid = pv.ImageData()\n",
        "grid.dimensions = np.array(inspiratory_data.shape)\n",
        "grid.origin = (1, 1, 1)\n",
        "grid.spacing = (0.625, 0.625, 2.5)\n",
        "grid.point_data[\"values\"] = inspiratory_data.flatten(order=\"F\")  # Flatten the array\n",
        "pl = pv.Plotter(shape=[1,4])\n",
        "_ = pl.add_volume(grid,mapper = 'gpu')\n",
        "pl.add_text(\"volumetric image\")\n",
        "pl.subplot(0, 1)\n",
        "_ = pl.add_mesh(grid)\n",
        "pl.add_text(\"object image\")\n",
        "pl.subplot(0, 2)\n",
        "_ = pl.add_mesh_isovalue(grid)\n",
        "pl.add_text(\"isovalue\")\n",
        "pl.subplot(0, 3)\n",
        "\n",
        "isovalues = grid.contour(np.linspace(0, 2000, 10), method='contour') #'contour', 'marching_cubes' and 'flying_edges'\n",
        "# Create a new lookup table with oranges\n",
        "lut = pv.LookupTable()\n",
        "lut.value_range = (0, 2000)\n",
        "lut.hue_range = (0.0, 1)\n",
        "lut.saturation_range = (0.0, 1)\n",
        "lut.alpha_range = (0.0, 1.0)\n",
        "lut.scalar_range = (1, 2000)\n",
        "\n",
        "scalars_rng = (isovalues.active_scalars.min(), isovalues.active_scalars.max())\n",
        "\n",
        "\n",
        "def make_double_slider(attr, idx):\n",
        "    \"\"\"Create a double slider for a given lookup table attribute.\"\"\"\n",
        "\n",
        "    def set_min(min_value):\n",
        "        max_value = getattr(lut, attr)[1]\n",
        "        if min_value > max_value:\n",
        "            # force the movement of the maximum value\n",
        "            max_value = min_value\n",
        "            pl.slider_widgets[idx * 2 + 1].GetRepresentation().SetValue(max_value)\n",
        "        setattr(lut, attr, (min_value, max_value))\n",
        "\n",
        "        if attr == 'scalar_range':\n",
        "            actor.mapper.scalar_range = getattr(lut, attr)\n",
        "\n",
        "    def set_max(max_value):\n",
        "        min_value = getattr(lut, attr)[0]\n",
        "        if max_value < min_value:\n",
        "            # force the movement of the minimum value\n",
        "            min_value = max_value\n",
        "            pl.slider_widgets[idx * 2].GetRepresentation().SetValue(min_value)\n",
        "        setattr(lut, attr, (min_value, max_value))\n",
        "\n",
        "        if attr == 'scalar_range':\n",
        "            actor.mapper.scalar_range = getattr(lut, attr)\n",
        "\n",
        "    if attr == 'scalar_range':\n",
        "        rng = scalars_rng\n",
        "    else:\n",
        "        rng = (0, 1)\n",
        "\n",
        "    # create two overlapping slider bars by hiding the tube of the second\n",
        "    pl.add_slider_widget(\n",
        "        set_min,\n",
        "        rng,\n",
        "        value=getattr(lut, attr)[0],\n",
        "        interaction_event='always',\n",
        "        title=' '.join(attr.split('_')).capitalize(),\n",
        "        tube_width=0.003,\n",
        "        pointa=(0.6, 0.9 - 0.165 * idx),\n",
        "        pointb=(0.9, 0.9 - 0.165 * idx),\n",
        "    )\n",
        "    pl.add_slider_widget(\n",
        "        set_max,\n",
        "        rng,\n",
        "        value=getattr(lut, attr)[1],\n",
        "        interaction_event='always',\n",
        "        tube_width=0.0,\n",
        "        pointa=(0.6, 0.9 - 0.165 * idx),\n",
        "        pointb=(0.9, 0.9 - 0.165 * idx),\n",
        "    )\n",
        "actor = pl.add_mesh(isovalues, cmap=lut, lighting=False)\n",
        "make_double_slider('alpha_range', 0)\n",
        "make_double_slider('hue_range', 1)\n",
        "make_double_slider('value_range', 2)\n",
        "make_double_slider('saturation_range', 3)\n",
        "make_double_slider('scalar_range', 4)\n",
        "pl.add_text(\"10 isovalues\")\n",
        "\n",
        "pl.link_views()\n",
        "pl.show()"
      ]
    },
    {
      "cell_type": "code",
      "execution_count": null,
      "metadata": {
        "colab": {
          "referenced_widgets": [
            "9d253c76e66943009699faa80ba82a61"
          ]
        },
        "id": "1cTUjIvJrIAy",
        "outputId": "97579089-d2cd-4d8d-f0ca-e7567006c122"
      },
      "outputs": [
        {
          "data": {
            "application/vnd.jupyter.widget-view+json": {
              "model_id": "9d253c76e66943009699faa80ba82a61",
              "version_major": 2,
              "version_minor": 0
            },
            "text/plain": [
              "Widget(value='<iframe src=\"http://localhost:61062/index.html?ui=P_0x205010015d0_1&reconnect=auto\" class=\"pyvis…"
            ]
          },
          "metadata": {},
          "output_type": "display_data"
        }
      ],
      "source": [
        "pl = pv.Plotter()\n",
        "_ = pl.add_volume(grid,mapper = 'gpu', opacity='sigmoid_10')\n",
        "pl.show()"
      ]
    },
    {
      "cell_type": "code",
      "execution_count": null,
      "metadata": {
        "colab": {
          "referenced_widgets": [
            "e1a5c62b23744db1879fd2031b2a72f9"
          ]
        },
        "id": "jk7vAPWZrIAy",
        "outputId": "ee6c0096-ea9d-447f-d02e-541f40d692db"
      },
      "outputs": [
        {
          "name": "stderr",
          "output_type": "stream",
          "text": [
            "Computing Contour: 100%|██████████[00:00<00:00]\n"
          ]
        },
        {
          "data": {
            "application/vnd.jupyter.widget-view+json": {
              "model_id": "e1a5c62b23744db1879fd2031b2a72f9",
              "version_major": 2,
              "version_minor": 0
            },
            "text/plain": [
              "Widget(value='<iframe src=\"http://localhost:61062/index.html?ui=P_0x2057c95aa50_2&reconnect=auto\" class=\"pyvis…"
            ]
          },
          "metadata": {},
          "output_type": "display_data"
        }
      ],
      "source": [
        "file_path = r\"C:\\Users\\Enrique\\Desktop\\Udg\\MIRA\\proyecto git test\\Register-project\\TRAIN\\copd1\\copd1_4D.nii.gz\"\n",
        "image_data = nib.load(file_path).get_fdata()\n",
        "# Extraer datos de la fase inspiratoria\n",
        "inspiratory_data = image_data[:, :, :, 0]  # Selecciona la primera fase (índice 0)\n",
        "# inspiratory_data = np.where((inspiratory_data<200)&(inspiratory_data>50), inspiratory_data ,0)# Crear el objeto PyVista con los datos\n",
        "grid = pv.ImageData()\n",
        "grid.dimensions = np.array(inspiratory_data.shape)\n",
        "grid.origin = (1, 1, 1)\n",
        "grid.spacing = (0.625, 0.625, 2.5)\n",
        "grid.point_data[\"values\"] = inspiratory_data.flatten(order=\"F\")  # Flatten the array\n",
        "grid = grid.contour(isosurfaces= [600], progress_bar= True, method='marching_cubes') #'contour', 'marching_cubes' and 'flying_edges'\n",
        "grid.plot()"
      ]
    },
    {
      "cell_type": "code",
      "execution_count": null,
      "metadata": {
        "colab": {
          "referenced_widgets": [
            "cb93602252c64a5489c78f8c82860099"
          ]
        },
        "id": "QFZhMqb2rIAz",
        "outputId": "730dbcd7-f89e-4cfc-93b3-ba6962974241"
      },
      "outputs": [
        {
          "data": {
            "application/vnd.jupyter.widget-view+json": {
              "model_id": "cb93602252c64a5489c78f8c82860099",
              "version_major": 2,
              "version_minor": 0
            },
            "text/plain": [
              "Widget(value='<iframe src=\"http://localhost:61062/index.html?ui=P_0x205c2227ed0_14&reconnect=auto\" class=\"pyvi…"
            ]
          },
          "metadata": {},
          "output_type": "display_data"
        }
      ],
      "source": [
        "# Download skybox\n",
        "# cubemap = examples.download_sky_box_cube_map()\n",
        "cubemap = examples.download_cubemap_space_4k()\n",
        "\n",
        "pl = pv.Plotter()\n",
        "pl.add_actor(cubemap.to_skybox())\n",
        "pl.set_environment_texture(cubemap)  # For reflecting the environment off the mesh\n",
        "pl.add_mesh(grid, color='ff9999', opacity = 0.5, ambient= 1,diffuse=1,specular= 1, lighting= True, roughness=1.0, metallic=0.0,pbr=True, interpolate_before_map=False, use_transparency=True, render = True)\n",
        "pl.add_text(\"generic illumination scene\")\n",
        "pl.show()"
      ]
    },
    {
      "cell_type": "code",
      "execution_count": null,
      "metadata": {
        "colab": {
          "referenced_widgets": [
            "d28c5207aae6415d80e9b917db570936"
          ]
        },
        "id": "VuhHC_V9rIAz",
        "outputId": "8d83cba1-3664-4174-e599-93fc20635541"
      },
      "outputs": [
        {
          "data": {
            "application/vnd.jupyter.widget-view+json": {
              "model_id": "d28c5207aae6415d80e9b917db570936",
              "version_major": 2,
              "version_minor": 0
            },
            "text/plain": [
              "Widget(value='<iframe src=\"http://localhost:61062/index.html?ui=P_0x205d53844d0_15&reconnect=auto\" class=\"pyvi…"
            ]
          },
          "metadata": {},
          "output_type": "display_data"
        }
      ],
      "source": [
        "# Función para crear sliders individuales\n",
        "\n",
        "pl = pv.Plotter(lighting=None)\n",
        "pl.set_background('black')\n",
        "pl.add_mesh(grid, color= 'ff9999', opacity = 0.5, ambient= 1,diffuse=0,specular= 1, lighting= True, roughness=0.5, metallic=0.5,pbr=True, interpolate_before_map=True, use_transparency=True)\n",
        "# set up lighting\n",
        "light = pv.Light((-2, 2, 0), (0, 0, 0), 'white')\n",
        "pl.add_light(light)\n",
        "\n",
        "light = pv.Light((2, 0, 0), (0, 0, 0), (0.7, 0.0862, 0.0549))\n",
        "pl.add_light(light)\n",
        "\n",
        "light = pv.Light((0, 0, 10), (0, 0, 0), 'white')\n",
        "pl.add_light(light)\n",
        "\n",
        "pl.show()"
      ]
    }
  ],
  "metadata": {
    "colab": {
      "provenance": []
    },
    "kernelspec": {
      "display_name": ".venv",
      "language": "python",
      "name": "python3"
    },
    "language_info": {
      "codemirror_mode": {
        "name": "ipython",
        "version": 3
      },
      "file_extension": ".py",
      "mimetype": "text/x-python",
      "name": "python",
      "nbconvert_exporter": "python",
      "pygments_lexer": "ipython3",
      "version": "3.11.6"
    }
  },
  "nbformat": 4,
  "nbformat_minor": 0
}